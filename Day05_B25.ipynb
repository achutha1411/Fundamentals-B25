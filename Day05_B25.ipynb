{
 "cells": [
  {
   "cell_type": "code",
   "execution_count": 1,
   "metadata": {},
   "outputs": [],
   "source": [
    "#List Datatype"
   ]
  },
  {
   "cell_type": "code",
   "execution_count": 2,
   "metadata": {},
   "outputs": [],
   "source": [
    "students=['Vinay', 'Sunil', 'Kumar', \"anand\",\"karthik\", \"ajay\", \"sundhar\"]"
   ]
  },
  {
   "cell_type": "code",
   "execution_count": 3,
   "metadata": {},
   "outputs": [
    {
     "name": "stdout",
     "output_type": "stream",
     "text": [
      "['Vinay', 'Sunil', 'Kumar', 'anand', 'karthik', 'ajay', 'sundhar']\n"
     ]
    }
   ],
   "source": [
    "print(students)"
   ]
  },
  {
   "cell_type": "code",
   "execution_count": 4,
   "metadata": {},
   "outputs": [
    {
     "data": {
      "text/plain": [
       "list"
      ]
     },
     "execution_count": 4,
     "metadata": {},
     "output_type": "execute_result"
    }
   ],
   "source": [
    "type(students)"
   ]
  },
  {
   "cell_type": "code",
   "execution_count": 5,
   "metadata": {},
   "outputs": [],
   "source": [
    "# To appreciate the list of students"
   ]
  },
  {
   "cell_type": "code",
   "execution_count": 6,
   "metadata": {},
   "outputs": [
    {
     "name": "stdout",
     "output_type": "stream",
     "text": [
      "keep up the good work,Sunil\n"
     ]
    }
   ],
   "source": [
    "print(f\"keep up the good work,{students[1]}\")"
   ]
  },
  {
   "cell_type": "code",
   "execution_count": 7,
   "metadata": {},
   "outputs": [
    {
     "name": "stdout",
     "output_type": "stream",
     "text": [
      "keep up the good work,anand\n"
     ]
    }
   ],
   "source": [
    "print(f\"keep up the good work,{students[3]}\")"
   ]
  },
  {
   "cell_type": "code",
   "execution_count": 8,
   "metadata": {},
   "outputs": [],
   "source": [
    "#Implementation of loops"
   ]
  },
  {
   "cell_type": "code",
   "execution_count": 10,
   "metadata": {},
   "outputs": [
    {
     "name": "stdout",
     "output_type": "stream",
     "text": [
      "Keep up the good work, Vinay\n",
      "Keep up the good work, Sunil\n",
      "Keep up the good work, Kumar\n",
      "Keep up the good work, anand\n",
      "Keep up the good work, karthik\n",
      "Keep up the good work, ajay\n",
      "Keep up the good work, sundhar\n"
     ]
    }
   ],
   "source": [
    "for x in students:\n",
    "    print(f\"Keep up the good work, {x}\")"
   ]
  },
  {
   "cell_type": "code",
   "execution_count": 11,
   "metadata": {},
   "outputs": [
    {
     "name": "stdout",
     "output_type": "stream",
     "text": [
      "Keep up the good work, Vinay\n",
      "i will be loking forward to recive todays file, Vinay.\n",
      "\n",
      "Keep up the good work, Sunil\n",
      "i will be loking forward to recive todays file, Sunil.\n",
      "\n",
      "Keep up the good work, Kumar\n",
      "i will be loking forward to recive todays file, Kumar.\n",
      "\n",
      "Keep up the good work, anand\n",
      "i will be loking forward to recive todays file, anand.\n",
      "\n",
      "Keep up the good work, karthik\n",
      "i will be loking forward to recive todays file, karthik.\n",
      "\n",
      "Keep up the good work, ajay\n",
      "i will be loking forward to recive todays file, ajay.\n",
      "\n",
      "Keep up the good work, sundhar\n",
      "i will be loking forward to recive todays file, sundhar.\n",
      "\n"
     ]
    }
   ],
   "source": [
    "for x in students:\n",
    "    print(f\"Keep up the good work, {x}\")\n",
    "    print(f\"i will be loking forward to recive todays file, {x}.\\n\")"
   ]
  },
  {
   "cell_type": "code",
   "execution_count": 12,
   "metadata": {},
   "outputs": [
    {
     "name": "stdout",
     "output_type": "stream",
     "text": [
      "Keep up the good work, Vinay\n",
      "i will be loking forward to recive todays file, Vinay.\n",
      "\t\n",
      "Keep up the good work, Sunil\n",
      "i will be loking forward to recive todays file, Sunil.\n",
      "\t\n",
      "Keep up the good work, Kumar\n",
      "i will be loking forward to recive todays file, Kumar.\n",
      "\t\n",
      "Keep up the good work, anand\n",
      "i will be loking forward to recive todays file, anand.\n",
      "\t\n",
      "Keep up the good work, karthik\n",
      "i will be loking forward to recive todays file, karthik.\n",
      "\t\n",
      "Keep up the good work, ajay\n",
      "i will be loking forward to recive todays file, ajay.\n",
      "\t\n",
      "Keep up the good work, sundhar\n",
      "i will be loking forward to recive todays file, sundhar.\n",
      "\t\n"
     ]
    }
   ],
   "source": [
    "for x in students:\n",
    "    print(f\"Keep up the good work, {x}\")\n",
    "    print(f\"i will be loking forward to recive todays file, {x}.\\n\\t\")"
   ]
  },
  {
   "cell_type": "code",
   "execution_count": null,
   "metadata": {},
   "outputs": [],
   "source": []
  }
 ],
 "metadata": {
  "kernelspec": {
   "display_name": "Python 3",
   "language": "python",
   "name": "python3"
  },
  "language_info": {
   "codemirror_mode": {
    "name": "ipython",
    "version": 3
   },
   "file_extension": ".py",
   "mimetype": "text/x-python",
   "name": "python",
   "nbconvert_exporter": "python",
   "pygments_lexer": "ipython3",
   "version": "3.7.6"
  }
 },
 "nbformat": 4,
 "nbformat_minor": 4
}
